{
 "cells": [
  {
   "cell_type": "code",
   "execution_count": 1,
   "metadata": {},
   "outputs": [],
   "source": [
    "class_to_int = {'XR_SHOULDER':0, 'XR_HUMERUS':1, 'XR_ELBOW':2, 'XR_FOREARM':3, 'XR_WRIST':4, 'XR_HAND':5, 'XR_FINGER':6}"
   ]
  },
  {
   "cell_type": "code",
   "execution_count": 4,
   "metadata": {},
   "outputs": [],
   "source": [
    "train_paths = open('MURA-v1.1/train_image_paths.csv', 'r').readlines()\n",
    "train_labels = open('MURA-v1.1/train_image_class.csv', 'w')\n",
    "for path in train_paths:\n",
    "    train_labels.write(str(class_to_int[path.split('/')[2]])+'\\n')\n",
    "    \n",
    "train_labels.close()"
   ]
  },
  {
   "cell_type": "code",
   "execution_count": 5,
   "metadata": {},
   "outputs": [],
   "source": [
    "valid_paths = open('MURA-v1.1/valid_image_paths.csv', 'r').readlines()\n",
    "valid_labels = open('MURA-v1.1/valid_image_class.csv', 'w')\n",
    "for path in valid_paths:\n",
    "    valid_labels.write(str(class_to_int[path.split('/')[2]])+'\\n')\n",
    "    \n",
    "valid_labels.close()"
   ]
  },
  {
   "cell_type": "code",
   "execution_count": 6,
   "metadata": {},
   "outputs": [],
   "source": [
    "study_to_int = {'positive':1, 'negative':0}"
   ]
  },
  {
   "cell_type": "code",
   "execution_count": 7,
   "metadata": {},
   "outputs": [],
   "source": [
    "train_paths = open('MURA-v1.1/train_image_paths.csv', 'r').readlines()\n",
    "train_labels = open('MURA-v1.1/train_labeled_studies1.csv', 'w')\n",
    "for path in train_paths:\n",
    "    train_labels.write(str(study_to_int[path.split('/')[4].split('_')[1]])+'\\n')\n",
    "    \n",
    "train_labels.close()"
   ]
  },
  {
   "cell_type": "code",
   "execution_count": 9,
   "metadata": {},
   "outputs": [],
   "source": [
    "valid_paths = open('MURA-v1.1/valid_image_paths.csv', 'r').readlines()\n",
    "valid_labels = open('MURA-v1.1/valid_labeled_studies1.csv', 'w')\n",
    "for path in valid_paths:\n",
    "    valid_labels.write(str(study_to_int[path.split('/')[4].split('_')[1]])+'\\n')\n",
    "    \n",
    "valid_labels.close()"
   ]
  },
  {
   "cell_type": "code",
   "execution_count": null,
   "metadata": {},
   "outputs": [],
   "source": []
  }
 ],
 "metadata": {
  "kernelspec": {
   "display_name": "Python 3",
   "language": "python",
   "name": "python3"
  },
  "language_info": {
   "codemirror_mode": {
    "name": "ipython",
    "version": 3
   },
   "file_extension": ".py",
   "mimetype": "text/x-python",
   "name": "python",
   "nbconvert_exporter": "python",
   "pygments_lexer": "ipython3",
   "version": "3.5.3"
  }
 },
 "nbformat": 4,
 "nbformat_minor": 2
}
